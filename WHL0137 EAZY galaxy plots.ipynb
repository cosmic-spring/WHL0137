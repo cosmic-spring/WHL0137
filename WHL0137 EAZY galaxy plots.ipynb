{
 "cells": [
  {
   "cell_type": "markdown",
   "id": "c3fbfd46",
   "metadata": {},
   "source": [
    "# Exploring EAZY results\n",
    "\n",
    "* Load and print results\n",
    "* Galaxy card compiling color image and plots"
   ]
  },
  {
   "cell_type": "markdown",
   "id": "2ecd8147",
   "metadata": {},
   "source": [
    "Earendel + Sunrise Arc lensed by WHL0137:  \n",
    "https://cosmic-spring.github.io/earendel.html  \n",
    "\n",
    "Interactive color image + catalog explorer:  \n",
    "https://cosmic-spring-jwst.herokuapp.com  \n",
    "\n",
    "WHL0137 images and galaxy catalogs processed by grizli and EAZY:  \n",
    "https://s3.amazonaws.com/grizli-v2/JwstMosaics/v4/index.html\n",
    "\n",
    "Color images:  \n",
    "https://www.easyzoom.com/imageaccess/126a44c2acae47df81bee5c85c98d4c7  \n",
    "https://stsci.box.com/s/cq992a7cfd13wlsmu784zkioho1pga65  \n",
    "\n",
    "EAZY:  \n",
    "https://eazy-py.readthedocs.io"
   ]
  },
  {
   "cell_type": "markdown",
   "id": "293eac85",
   "metadata": {},
   "source": []
  },
  {
   "cell_type": "markdown",
   "id": "087a88f6",
   "metadata": {},
   "source": [
    "## Imports"
   ]
  },
  {
   "cell_type": "code",
   "execution_count": 1,
   "id": "e5755c61",
   "metadata": {},
   "outputs": [],
   "source": [
    "import eazy\n",
    "import eazy.hdf5"
   ]
  },
  {
   "cell_type": "code",
   "execution_count": 2,
   "id": "f4199ad8",
   "metadata": {},
   "outputs": [],
   "source": [
    "from astropy.table import Table\n",
    "import astropy.units as u\n",
    "import astropy\n",
    "\n",
    "# for labeling color image\n",
    "from astropy.io import fits\n",
    "from astropy.coordinates import SkyCoord\n",
    "import astropy.wcs as wcs"
   ]
  },
  {
   "cell_type": "code",
   "execution_count": 3,
   "id": "ebf6bb1d",
   "metadata": {},
   "outputs": [],
   "source": [
    "# to show segmentation map\n",
    "import photutils"
   ]
  },
  {
   "cell_type": "code",
   "execution_count": 4,
   "id": "390edfe4",
   "metadata": {},
   "outputs": [],
   "source": [
    "import numpy as np\n",
    "from glob import glob\n",
    "import string\n",
    "from importlib import reload\n",
    "\n",
    "import os\n",
    "from os.path import expanduser\n",
    "home = expanduser(\"~\")"
   ]
  },
  {
   "cell_type": "code",
   "execution_count": 5,
   "id": "2b819480",
   "metadata": {},
   "outputs": [],
   "source": [
    "# color images\n",
    "import PIL\n",
    "from PIL import Image, ImageDraw, ImageFont\n",
    "PIL.Image.MAX_IMAGE_PIXELS = 933120000  # allow to load large images avoiding DecompressionBombError"
   ]
  },
  {
   "cell_type": "code",
   "execution_count": 6,
   "id": "8002d85a",
   "metadata": {},
   "outputs": [],
   "source": [
    "# plotting\n",
    "import matplotlib\n",
    "import matplotlib.pyplot as plt\n",
    "from matplotlib import ticker\n",
    "#%matplotlib inline   # non-interactive (easier for notebook scrolling)\n",
    "%matplotlib notebook\n",
    "plt.style.use(os.path.join(home, 'p', 'matplotlibrc.txt')) # https://matplotlib.org/tutorials/introductory/customizing.html\n",
    "#plt.style.use('https://www.stsci.edu/~dcoe/matplotlibrc.txt') # https://matplotlib.org/tutorials/introductory/customizing.html\n",
    "mpl_colors = plt.rcParams['axes.prop_cycle'].by_key()['color']\n",
    "from matplotlib.colors import ListedColormap, LinearSegmentedColormap\n",
    "from matplotlib.ticker import ScalarFormatter, FuncFormatter, MultipleLocator"
   ]
  },
  {
   "cell_type": "markdown",
   "id": "ce1f0067",
   "metadata": {},
   "source": [
    "## Helper functions"
   ]
  },
  {
   "cell_type": "code",
   "execution_count": 7,
   "id": "487aa87f",
   "metadata": {},
   "outputs": [],
   "source": [
    "import coeSEDplot"
   ]
  },
  {
   "cell_type": "code",
   "execution_count": 8,
   "id": "551f39ff",
   "metadata": {},
   "outputs": [],
   "source": [
    "def find_object_in_catalog(RA, Dec):\n",
    "    object_coordinates = SkyCoord(ra=RA*u.deg, dec=Dec*u.deg)\n",
    "    \n",
    "    # First look in segmentation map:\n",
    "    x, y = image_wcs.world_to_pixel(object_coordinates)\n",
    "    x = roundint(x)\n",
    "    y = roundint(y)\n",
    "    id = segm.data[y,x]\n",
    "    \n",
    "    # If nothing there, check for nearby object\n",
    "    if not id:\n",
    "        catalog_coordinates = SkyCoord(ra=eazy_results['ra'], dec=eazy_results['dec'])  # *u.deg\n",
    "        idx, d2d, d3d = object_coordinates.match_to_catalog_sky(catalog_coordinates)\n",
    "        id = eazy_results['id'][idx]\n",
    "    \n",
    "    return id"
   ]
  },
  {
   "cell_type": "code",
   "execution_count": 9,
   "id": "476dbd73",
   "metadata": {},
   "outputs": [],
   "source": [
    "def roundint(x):\n",
    "    return np.round(x).astype(int)\n",
    "    \n",
    "def extract_id(cat, id, idlabel='id'): # choose_object select_object\n",
    "    duck_duck_goose = cat[idlabel] == int(id)\n",
    "    if len(duck_duck_goose):\n",
    "        obj = cat[duck_duck_goose]\n",
    "    return obj[0]"
   ]
  },
  {
   "cell_type": "markdown",
   "id": "1c2f2651",
   "metadata": {},
   "source": [
    "# START HERE"
   ]
  },
  {
   "cell_type": "markdown",
   "id": "c298cd48",
   "metadata": {},
   "source": [
    "# Load EAZY results"
   ]
  },
  {
   "cell_type": "code",
   "execution_count": 10,
   "id": "605b89b3",
   "metadata": {},
   "outputs": [],
   "source": [
    "inroot = 'sunrise-grizli-v4.0-fix'\n",
    "field = 'whl0137'"
   ]
  },
  {
   "cell_type": "code",
   "execution_count": 11,
   "id": "43dfd03e",
   "metadata": {},
   "outputs": [
    {
     "data": {
      "text/html": [
       "<div><i>Table length=2</i>\n",
       "<table id=\"table6296985392\" class=\"table-striped table-bordered table-condensed\">\n",
       "<thead><tr><th>id</th><th>ra</th><th>dec</th><th>z_spec</th><th>nusefilt</th><th>z_ml</th><th>z_ml_chi2</th><th>z_ml_risk</th><th>lc_min</th><th>lc_max</th><th>z_phot</th><th>z_phot_chi2</th><th>z_phot_risk</th><th>z_min_risk</th><th>min_risk</th><th>z_raw_chi2</th><th>raw_chi2</th><th>z025</th><th>z160</th><th>z500</th><th>z840</th><th>z975</th><th>restU</th><th>restU_err</th><th>restB</th><th>restB_err</th><th>restV</th><th>restV_err</th><th>restJ</th><th>restJ_err</th><th>dL</th><th>mass</th><th>sfr</th><th>Lv</th><th>LIR</th><th>energy_abs</th><th>Lu</th><th>Lj</th><th>L1400</th><th>L2800</th><th>LHa</th><th>LOIII</th><th>LHb</th><th>LOII</th><th>MLv</th><th>Av</th><th>lwAgeV</th><th>mass_p</th><th>sfr_p</th><th>Lv_p</th><th>LIR_p</th><th>energy_abs_p</th><th>Lu_p</th><th>Lj_p</th><th>L1400_p</th><th>L2800_p</th><th>LHa_p</th><th>LOIII_p</th><th>LHb_p</th><th>LOII_p</th><th>Av_p</th><th>ssfr_p</th><th>rest120</th><th>rest120_err</th><th>rest121</th><th>rest121_err</th><th>rest414</th><th>rest414_err</th><th>rest415</th><th>rest415_err</th><th>rest416</th><th>rest416_err</th></tr></thead>\n",
       "<thead><tr><th></th><th>deg</th><th>deg</th><th></th><th></th><th></th><th></th><th></th><th></th><th></th><th></th><th></th><th></th><th></th><th></th><th></th><th></th><th></th><th></th><th></th><th></th><th></th><th></th><th></th><th></th><th></th><th></th><th></th><th></th><th></th><th>Mpc</th><th>solMass</th><th>solMass / yr</th><th>solLum</th><th>solLum</th><th>solLum</th><th>solLum</th><th>solLum</th><th>solLum</th><th>solLum</th><th>solLum</th><th>solLum</th><th>solLum</th><th>solLum</th><th>solMass / solLum</th><th></th><th>Gyr</th><th></th><th></th><th></th><th></th><th></th><th></th><th></th><th></th><th></th><th></th><th></th><th></th><th></th><th></th><th></th><th></th><th></th><th></th><th></th><th></th><th></th><th></th><th></th><th></th><th></th></tr></thead>\n",
       "<thead><tr><th>int32</th><th>float64</th><th>float64</th><th>float64</th><th>int64</th><th>float32</th><th>float32</th><th>float32</th><th>float64</th><th>float64</th><th>float32</th><th>float32</th><th>float32</th><th>float32</th><th>float32</th><th>float32</th><th>float32</th><th>float32</th><th>float32</th><th>float32</th><th>float32</th><th>float32</th><th>float32</th><th>float32</th><th>float32</th><th>float32</th><th>float32</th><th>float32</th><th>float32</th><th>float32</th><th>float64</th><th>float64</th><th>float64</th><th>float64</th><th>float64</th><th>float64</th><th>float64</th><th>float64</th><th>float64</th><th>float64</th><th>float64</th><th>float64</th><th>float64</th><th>float64</th><th>float64</th><th>float64</th><th>float64</th><th>float64[5]</th><th>float64[5]</th><th>float64[5]</th><th>float64[5]</th><th>float64[5]</th><th>float64[5]</th><th>float64[5]</th><th>float64[5]</th><th>float64[5]</th><th>float64[5]</th><th>float64[5]</th><th>float64[5]</th><th>float64[5]</th><th>float64[5]</th><th>float64[5]</th><th>float32</th><th>float32</th><th>float32</th><th>float32</th><th>float32</th><th>float32</th><th>float32</th><th>float32</th><th>float32</th><th>float32</th></tr></thead>\n",
       "<tr><td>1</td><td>24.390374009600837</td><td>-8.500792839432803</td><td>-1.0</td><td>0</td><td>-1.0</td><td>-1.0</td><td>-1.0</td><td>43188281021088.9</td><td>0.0</td><td>-1.0</td><td>-1.0</td><td>-1.0</td><td>0.01</td><td>0.0</td><td>0.01</td><td>0.0000</td><td>0.0000</td><td>0.0000</td><td>0.0000</td><td>0.0000</td><td>0.0000</td><td>-99.000</td><td>0.000</td><td>-99.000</td><td>0.000</td><td>-99.000</td><td>0.000</td><td>-99.000</td><td>0.000</td><td>0.0e+00</td><td>-9.00e+29</td><td>-900000000000000046043660025856.000</td><td>-9.00e+29</td><td>-9.00e+29</td><td>-9.00e+29</td><td>-9.00e+29</td><td>-9.00e+29</td><td>-9.00e+29</td><td>-9.00e+29</td><td>-9.00e+29</td><td>-9.00e+29</td><td>-9.00e+29</td><td>-9.00e+29</td><td>-900000000000000046043660025856.00</td><td>-900000000000000046043660025856.00</td><td>-900000000000000046043660025856.00</td><td>-9.00e+29 ..  -9.00e+29</td><td>-900000000000000046043660025856.000 .. -900000000000000046043660025856.000</td><td>-9.00e+29 ..  -9.00e+29</td><td>-9.00e+29 ..  -9.00e+29</td><td>-9.00e+29 ..  -9.00e+29</td><td>-9.00e+29 ..  -9.00e+29</td><td>-9.00e+29 ..  -9.00e+29</td><td>-9.00e+29 ..  -9.00e+29</td><td>-9.00e+29 ..  -9.00e+29</td><td>-9.00e+29 ..  -9.00e+29</td><td>-9.00e+29 ..  -9.00e+29</td><td>-9.00e+29 ..  -9.00e+29</td><td>-9.00e+29 ..  -9.00e+29</td><td>-900000000000000046043660025856.00 .. -900000000000000046043660025856.00</td><td>-9.00e+29 ..  -9.00e+29</td><td>-99.000</td><td>0.000</td><td>-99.000</td><td>0.000</td><td>-99.000</td><td>0.000</td><td>-99.000</td><td>0.000</td><td>-99.000</td><td>0.000</td></tr>\n",
       "<tr><td>2</td><td>24.3799276586953</td><td>-8.50079364079458</td><td>-1.0</td><td>0</td><td>-1.0</td><td>-1.0</td><td>-1.0</td><td>43188281021088.9</td><td>0.0</td><td>-1.0</td><td>-1.0</td><td>-1.0</td><td>0.01</td><td>0.0</td><td>0.01</td><td>0.0000</td><td>0.0000</td><td>0.0000</td><td>0.0000</td><td>0.0000</td><td>0.0000</td><td>-99.000</td><td>0.000</td><td>-99.000</td><td>0.000</td><td>-99.000</td><td>0.000</td><td>-99.000</td><td>0.000</td><td>0.0e+00</td><td>-9.00e+29</td><td>-900000000000000046043660025856.000</td><td>-9.00e+29</td><td>-9.00e+29</td><td>-9.00e+29</td><td>-9.00e+29</td><td>-9.00e+29</td><td>-9.00e+29</td><td>-9.00e+29</td><td>-9.00e+29</td><td>-9.00e+29</td><td>-9.00e+29</td><td>-9.00e+29</td><td>-900000000000000046043660025856.00</td><td>-900000000000000046043660025856.00</td><td>-900000000000000046043660025856.00</td><td>-9.00e+29 ..  -9.00e+29</td><td>-900000000000000046043660025856.000 .. -900000000000000046043660025856.000</td><td>-9.00e+29 ..  -9.00e+29</td><td>-9.00e+29 ..  -9.00e+29</td><td>-9.00e+29 ..  -9.00e+29</td><td>-9.00e+29 ..  -9.00e+29</td><td>-9.00e+29 ..  -9.00e+29</td><td>-9.00e+29 ..  -9.00e+29</td><td>-9.00e+29 ..  -9.00e+29</td><td>-9.00e+29 ..  -9.00e+29</td><td>-9.00e+29 ..  -9.00e+29</td><td>-9.00e+29 ..  -9.00e+29</td><td>-9.00e+29 ..  -9.00e+29</td><td>-900000000000000046043660025856.00 .. -900000000000000046043660025856.00</td><td>-9.00e+29 ..  -9.00e+29</td><td>-99.000</td><td>0.000</td><td>-99.000</td><td>0.000</td><td>-99.000</td><td>0.000</td><td>-99.000</td><td>0.000</td><td>-99.000</td><td>0.000</td></tr>\n",
       "</table></div>"
      ],
      "text/plain": [
       "<Table length=2>\n",
       "  id          ra                dec          z_spec ... rest415_err    rest416    rest416_err \n",
       "             deg                deg                 ...                                       \n",
       "int32      float64            float64       float64 ...   float32      float32      float32   \n",
       "----- ------------------ ------------------ ------- ... ------------ ------------ ------------\n",
       "    1 24.390374009600837 -8.500792839432803    -1.0 ...        0.000      -99.000        0.000\n",
       "    2   24.3799276586953  -8.50079364079458    -1.0 ...        0.000      -99.000        0.000"
      ]
     },
     "execution_count": 11,
     "metadata": {},
     "output_type": "execute_result"
    }
   ],
   "source": [
    "eazy_file = inroot + '.eazypy.zout.fits'\n",
    "eazy_results = Table.read(eazy_file)\n",
    "eazy_results[:2]"
   ]
  },
  {
   "cell_type": "code",
   "execution_count": 12,
   "id": "7e91149e",
   "metadata": {},
   "outputs": [],
   "source": [
    "#eazy_phot = Table.read(inroot + '_phot_apcorr.fits')\n",
    "#eazy_phot[:2]"
   ]
  },
  {
   "cell_type": "code",
   "execution_count": 13,
   "id": "2577bf0c",
   "metadata": {},
   "outputs": [],
   "source": [
    "#eazy_data = fits.open(inroot + '.eazypy.data.fits')\n",
    "#eazy_data.info()"
   ]
  },
  {
   "cell_type": "markdown",
   "id": "45450350",
   "metadata": {},
   "source": [
    "In the .h5 file, EAZY saved local paths to templates and FILTER.RES.latest.   \n",
    "Link to them on your machine so we can find them now! For example:\n",
    "\n",
    "ln /Users/dcoe/miniconda3/envs/erophot/lib/python3.10/site-packages/eazy/data/templates   \n",
    "ln /Users/dcoe/miniconda3/envs/erophot/lib/python3.10/site-packages/eazy/data/filters/FILTER.RES.latest\n",
    "\n",
    "New Carnall templates from Github sfhz:  \n",
    "https://github.com/gbrammer/eazy-photoz/tree/master/templates/sfhz  \n",
    "cd /Users/dcoe/miniconda3/envs/erophot/lib/python3.10/site-packages/eazy/data/templates  \n",
    "ln sfhz xspline_templates"
   ]
  },
  {
   "cell_type": "code",
   "execution_count": 14,
   "id": "abe81bae",
   "metadata": {},
   "outputs": [
    {
     "name": "stdout",
     "output_type": "stream",
     "text": [
      "Read default param file: /Users/dcoe/miniconda3/envs/erophot/lib/python3.10/site-packages/eazy/data/zphot.param.default\n",
      "CATALOG_FILE is a table\n",
      "   >>> NOBJ = 5750\n",
      "f090w_tot_1 f090w_etot_1 (363): jwst_nircam_f090w\n",
      "f105w_tot_1 f105w_etot_1 (202): hst/wfc3/IR/f105w.dat\n",
      "f110w_tot_1 f110w_etot_1 (241): hst/wfc3/IR/f110w.dat\n",
      "f115w_tot_1 f115w_etot_1 (364): jwst_nircam_f115w\n",
      "f125w_tot_1 f125w_etot_1 (203): hst/wfc3/IR/f125w.dat\n",
      "f140w_tot_1 f140w_etot_1 (204): hst/wfc3/IR/f140w.dat\n",
      "f150w_tot_1 f150w_etot_1 (365): jwst_nircam_f150w\n",
      "f160w_tot_1 f160w_etot_1 (205): hst/wfc3/IR/f160w.dat\n",
      "f200w_tot_1 f200w_etot_1 (366): jwst_nircam_f200w\n",
      "f277w_tot_1 f277w_etot_1 (375): jwst_nircam_f277w\n",
      "f356w_tot_1 f356w_etot_1 (376): jwst_nircam_f356w\n",
      "f410m_tot_1 f410m_etot_1 (383): jwst_nircam_f410m\n",
      "f435w_tot_1 f435w_etot_1 (233): hst/ACS_update_sep07/wfc_f435w_t81.dat\n",
      "f444w_tot_1 f444w_etot_1 (377): jwst_nircam_f444w\n",
      "f475w_tot_1 f475w_etot_1 (234): hst/ACS_update_sep07/wfc_f475w_t81.dat\n",
      "f606w_tot_1 f606w_etot_1 (236): hst/ACS_update_sep07/wfc_f606w_t81.dat\n",
      "f814w_tot_1 f814w_etot_1 (239): hst/ACS_update_sep07/wfc_f814w_t81.dat\n",
      "Set sys_err = 0.05 (positive=True)\n"
     ]
    },
    {
     "name": "stderr",
     "output_type": "stream",
     "text": [
      "/Users/dcoe/miniconda3/envs/erophot/lib/python3.10/site-packages/eazy/photoz.py:1325: RuntimeWarning: invalid value encountered in log10\n",
      "  self.prior_mag_cat += -2.5*np.log10(np.squeeze(self.fnu[:,ix]))\n"
     ]
    },
    {
     "name": "stdout",
     "output_type": "stream",
     "text": [
      "Read PRIOR_FILE:  templates/prior_F160W_TAO.dat\n",
      "Template grid: templates/xspline_templates/carnall_sfhz_13.param (this may take some time)\n",
      "TemplateGrid: user-provided tempfilt_data\n",
      "Process templates: 0.615 s\n"
     ]
    },
    {
     "name": "stderr",
     "output_type": "stream",
     "text": [
      "294it [00:00, 474.73it/s]\n"
     ]
    },
    {
     "name": "stdout",
     "output_type": "stream",
     "text": [
      "h5: read corr_sfhz_13_bin0_av0.01.fits\n",
      "h5: read corr_sfhz_13_bin0_av0.25.fits\n",
      "h5: read corr_sfhz_13_bin0_av0.50.fits\n",
      "h5: read corr_sfhz_13_bin0_av1.00.fits\n",
      "h5: read corr_sfhz_13_bin1_av0.01.fits\n",
      "h5: read corr_sfhz_13_bin1_av0.25.fits\n",
      "h5: read corr_sfhz_13_bin1_av0.50.fits\n",
      "h5: read corr_sfhz_13_bin1_av1.00.fits\n",
      "h5: read corr_sfhz_13_bin2_av0.01.fits\n",
      "h5: read corr_sfhz_13_bin2_av0.50.fits\n",
      "h5: read corr_sfhz_13_bin2_av1.00.fits\n",
      "h5: read corr_sfhz_13_bin3_av0.01.fits\n",
      "h5: read corr_sfhz_13_bin3_av0.50.fits\n",
      "h5: read 4590.txt\n",
      "\n",
      " NNLS quitting on iteration count.\n",
      "fit_best: 1.0 s (n_proc=1,  NOBJ=5539)\n"
     ]
    }
   ],
   "source": [
    "# Load detailed results from h5 file\n",
    "h5file  = inroot + '.eazypy.h5'\n",
    "eazy_run = eazy.hdf5.initialize_from_hdf5(h5file=h5file)"
   ]
  },
  {
   "cell_type": "code",
   "execution_count": 15,
   "id": "a2142ef1",
   "metadata": {},
   "outputs": [
    {
     "data": {
      "text/html": [
       "<div><i>Table length=2</i>\n",
       "<table id=\"table6306584448\" class=\"table-striped table-bordered table-condensed\">\n",
       "<thead><tr><th>id</th><th>ra</th><th>dec</th><th>z_spec</th><th>f090w_tot_1</th><th>f090w_etot_1</th><th>f105w_tot_1</th><th>f105w_etot_1</th><th>f110w_tot_1</th><th>f110w_etot_1</th><th>f115w_tot_1</th><th>f115w_etot_1</th><th>f125w_tot_1</th><th>f125w_etot_1</th><th>f140w_tot_1</th><th>f140w_etot_1</th><th>f150w_tot_1</th><th>f150w_etot_1</th><th>f160w_tot_1</th><th>f160w_etot_1</th><th>f200w_tot_1</th><th>f200w_etot_1</th><th>f277w_tot_1</th><th>f277w_etot_1</th><th>f356w_tot_1</th><th>f356w_etot_1</th><th>f410m_tot_1</th><th>f410m_etot_1</th><th>f435w_tot_1</th><th>f435w_etot_1</th><th>f444w_tot_1</th><th>f444w_etot_1</th><th>f475w_tot_1</th><th>f475w_etot_1</th><th>f606w_tot_1</th><th>f606w_etot_1</th><th>f814w_tot_1</th><th>f814w_etot_1</th></tr></thead>\n",
       "<thead><tr><th>int32</th><th>float64</th><th>float64</th><th>float64</th><th>float32</th><th>float32</th><th>float32</th><th>float32</th><th>float32</th><th>float32</th><th>float32</th><th>float32</th><th>float32</th><th>float32</th><th>float32</th><th>float32</th><th>float32</th><th>float32</th><th>float32</th><th>float32</th><th>float32</th><th>float32</th><th>float32</th><th>float32</th><th>float32</th><th>float32</th><th>float32</th><th>float32</th><th>float32</th><th>float32</th><th>float32</th><th>float32</th><th>float32</th><th>float32</th><th>float32</th><th>float32</th><th>float32</th><th>float32</th></tr></thead>\n",
       "<tr><td>1</td><td>24.390374</td><td>-8.500793</td><td>-1.00000</td><td>-99.000</td><td>-99.000</td><td>-99.000</td><td>-99.000</td><td>-99.000</td><td>-99.000</td><td>-99.000</td><td>-99.000</td><td>-99.000</td><td>-99.000</td><td>-99.000</td><td>-99.000</td><td>-99.000</td><td>-99.000</td><td>-99.000</td><td>-99.000</td><td>-99.000</td><td>-99.000</td><td>-99.000</td><td>-99.000</td><td>-99.000</td><td>-99.000</td><td>-99.000</td><td>-99.000</td><td>-99.000</td><td>-99.000</td><td>-99.000</td><td>-99.000</td><td>-99.000</td><td>-99.000</td><td>-99.000</td><td>-99.000</td><td>-99.000</td><td>-99.000</td></tr>\n",
       "<tr><td>2</td><td>24.379928</td><td>-8.500794</td><td>-1.00000</td><td>-99.000</td><td>-99.000</td><td>-99.000</td><td>-99.000</td><td>-99.000</td><td>-99.000</td><td>-99.000</td><td>-99.000</td><td>-99.000</td><td>-99.000</td><td>-99.000</td><td>-99.000</td><td>-99.000</td><td>-99.000</td><td>-99.000</td><td>-99.000</td><td>-99.000</td><td>-99.000</td><td>-99.000</td><td>-99.000</td><td>-99.000</td><td>-99.000</td><td>-99.000</td><td>-99.000</td><td>-99.000</td><td>-99.000</td><td>-99.000</td><td>-99.000</td><td>-99.000</td><td>-99.000</td><td>-99.000</td><td>-99.000</td><td>-99.000</td><td>-99.000</td></tr>\n",
       "</table></div>"
      ],
      "text/plain": [
       "<Table length=2>\n",
       "  id      ra       dec     z_spec  f090w_tot_1 ... f606w_tot_1 f606w_etot_1 f814w_tot_1 f814w_etot_1\n",
       "int32  float64   float64  float64    float32   ...   float32     float32      float32     float32   \n",
       "----- --------- --------- -------- ----------- ... ----------- ------------ ----------- ------------\n",
       "    1 24.390374 -8.500793 -1.00000     -99.000 ...     -99.000      -99.000     -99.000      -99.000\n",
       "    2 24.379928 -8.500794 -1.00000     -99.000 ...     -99.000      -99.000     -99.000      -99.000"
      ]
     },
     "execution_count": 15,
     "metadata": {},
     "output_type": "execute_result"
    }
   ],
   "source": [
    "eazy_run.cat[:2]"
   ]
  },
  {
   "cell_type": "markdown",
   "id": "1b44ff3d",
   "metadata": {},
   "source": [
    "# Combined output file: photometry + photo-z's"
   ]
  },
  {
   "cell_type": "code",
   "execution_count": 16,
   "id": "28ee23f1",
   "metadata": {},
   "outputs": [
    {
     "name": "stdout",
     "output_type": "stream",
     "text": [
      "Loading whl0137_phot-eazy.ecsv\n"
     ]
    }
   ],
   "source": [
    "outfile = field + '_phot-eazy.ecsv'\n",
    "if os.path.exists(outfile):\n",
    "    print('Loading', outfile)\n",
    "    catalog = astropy.io.ascii.read(outfile)"
   ]
  },
  {
   "cell_type": "code",
   "execution_count": 17,
   "id": "43cd6435",
   "metadata": {},
   "outputs": [
    {
     "data": {
      "text/html": [
       "<div><i>Table length=2</i>\n",
       "<table id=\"table6302830784\" class=\"table-striped table-bordered table-condensed\">\n",
       "<thead><tr><th>id</th><th>ra</th><th>dec</th><th>f090w_flux</th><th>f090w_fluxerr</th><th>f105w_flux</th><th>f105w_fluxerr</th><th>f110w_flux</th><th>f110w_fluxerr</th><th>f115w_flux</th><th>f115w_fluxerr</th><th>f125w_flux</th><th>f125w_fluxerr</th><th>f140w_flux</th><th>f140w_fluxerr</th><th>f150w_flux</th><th>f150w_fluxerr</th><th>f160w_flux</th><th>f160w_fluxerr</th><th>f200w_flux</th><th>f200w_fluxerr</th><th>f277w_flux</th><th>f277w_fluxerr</th><th>f356w_flux</th><th>f356w_fluxerr</th><th>f410m_flux</th><th>f410m_fluxerr</th><th>f435w_flux</th><th>f435w_fluxerr</th><th>f444w_flux</th><th>f444w_fluxerr</th><th>f475w_flux</th><th>f475w_fluxerr</th><th>f606w_flux</th><th>f606w_fluxerr</th><th>f814w_flux</th><th>f814w_fluxerr</th><th>z_spec</th><th>nusefilt</th><th>z_ml</th><th>z_ml_chi2</th><th>z_ml_risk</th><th>lc_min</th><th>lc_max</th><th>z_phot</th><th>z_phot_chi2</th><th>z_phot_risk</th><th>z_min_risk</th><th>min_risk</th><th>z_raw_chi2</th><th>raw_chi2</th><th>z025</th><th>z160</th><th>z500</th><th>z840</th><th>z975</th><th>restU</th><th>restU_err</th><th>restB</th><th>restB_err</th><th>restV</th><th>restV_err</th><th>restJ</th><th>restJ_err</th><th>dL</th><th>mass</th><th>sfr</th><th>Lv</th><th>LIR</th><th>energy_abs</th><th>Lu</th><th>Lj</th><th>L1400</th><th>L2800</th><th>LHa</th><th>LOIII</th><th>LHb</th><th>LOII</th><th>MLv</th><th>Av</th><th>lwAgeV</th><th>mass_p</th><th>sfr_p</th><th>Lv_p</th><th>LIR_p</th><th>energy_abs_p</th><th>Lu_p</th><th>Lj_p</th><th>L1400_p</th><th>L2800_p</th><th>LHa_p</th><th>LOIII_p</th><th>LHb_p</th><th>LOII_p</th><th>Av_p</th><th>ssfr_p</th><th>rest120</th><th>rest120_err</th><th>rest121</th><th>rest121_err</th><th>rest414</th><th>rest414_err</th><th>rest415</th><th>rest415_err</th><th>rest416</th><th>rest416_err</th><th>flux</th><th>peak</th><th>flux_radius</th></tr></thead>\n",
       "<thead><tr><th></th><th></th><th></th><th></th><th></th><th></th><th></th><th></th><th></th><th></th><th></th><th></th><th></th><th></th><th></th><th></th><th></th><th></th><th></th><th></th><th></th><th></th><th></th><th></th><th></th><th></th><th></th><th></th><th></th><th></th><th></th><th></th><th></th><th></th><th></th><th></th><th></th><th></th><th></th><th></th><th></th><th></th><th></th><th></th><th></th><th></th><th></th><th></th><th></th><th></th><th></th><th></th><th></th><th></th><th></th><th></th><th></th><th></th><th></th><th></th><th></th><th></th><th></th><th></th><th>Mpc</th><th>solMass</th><th>solMass / yr</th><th>solLum</th><th>solLum</th><th>solLum</th><th>solLum</th><th>solLum</th><th>solLum</th><th>solLum</th><th>solLum</th><th>solLum</th><th>solLum</th><th>solLum</th><th>solMass / solLum</th><th></th><th>Gyr</th><th></th><th></th><th></th><th></th><th></th><th></th><th></th><th></th><th></th><th></th><th></th><th></th><th></th><th></th><th></th><th></th><th></th><th></th><th></th><th></th><th></th><th></th><th></th><th></th><th></th><th>uJy</th><th>uJy</th><th></th></tr></thead>\n",
       "<thead><tr><th>int32</th><th>float64</th><th>float64</th><th>float32</th><th>float32</th><th>float32</th><th>float32</th><th>float32</th><th>float32</th><th>float32</th><th>float32</th><th>float32</th><th>float32</th><th>float32</th><th>float32</th><th>float32</th><th>float32</th><th>float32</th><th>float32</th><th>float32</th><th>float32</th><th>float32</th><th>float32</th><th>float32</th><th>float32</th><th>float32</th><th>float32</th><th>float32</th><th>float32</th><th>float32</th><th>float32</th><th>float32</th><th>float32</th><th>float32</th><th>float32</th><th>float32</th><th>float32</th><th>float64</th><th>int64</th><th>float32</th><th>float32</th><th>float32</th><th>float64</th><th>float64</th><th>float32</th><th>float32</th><th>float32</th><th>float32</th><th>float32</th><th>float32</th><th>float32</th><th>float32</th><th>float32</th><th>float32</th><th>float32</th><th>float32</th><th>float32</th><th>float32</th><th>float32</th><th>float32</th><th>float32</th><th>float32</th><th>float32</th><th>float32</th><th>float64</th><th>float64</th><th>float64</th><th>float64</th><th>float64</th><th>float64</th><th>float64</th><th>float64</th><th>float64</th><th>float64</th><th>float64</th><th>float64</th><th>float64</th><th>float64</th><th>float64</th><th>float64</th><th>float64</th><th>float64[5]</th><th>float64[5]</th><th>float64[5]</th><th>float64[5]</th><th>float64[5]</th><th>float64[5]</th><th>float64[5]</th><th>float64[5]</th><th>float64[5]</th><th>float64[5]</th><th>float64[5]</th><th>float64[5]</th><th>float64[5]</th><th>float64[5]</th><th>float64[5]</th><th>float32</th><th>float32</th><th>float32</th><th>float32</th><th>float32</th><th>float32</th><th>float32</th><th>float32</th><th>float32</th><th>float32</th><th>float64</th><th>float64</th><th>float64</th></tr></thead>\n",
       "<tr><td>1</td><td>24.390374</td><td>-8.500793</td><td>-99.000</td><td>-99.000</td><td>-99.000</td><td>-99.000</td><td>-99.000</td><td>-99.000</td><td>-99.000</td><td>-99.000</td><td>-99.000</td><td>-99.000</td><td>-99.000</td><td>-99.000</td><td>-99.000</td><td>-99.000</td><td>-99.000</td><td>-99.000</td><td>-99.000</td><td>-99.000</td><td>-99.000</td><td>-99.000</td><td>-99.000</td><td>-99.000</td><td>-99.000</td><td>-99.000</td><td>-99.000</td><td>-99.000</td><td>-99.000</td><td>-99.000</td><td>-99.000</td><td>-99.000</td><td>-99.000</td><td>-99.000</td><td>-99.000</td><td>-99.000</td><td>-1.0</td><td>0</td><td>-1.0</td><td>-1.0</td><td>-1.0</td><td>43188281021088.9</td><td>0.0</td><td>-1.0</td><td>-1.0</td><td>-1.0</td><td>0.01</td><td>0.0</td><td>0.01</td><td>0.0000</td><td>0.0000</td><td>0.0000</td><td>0.0000</td><td>0.0000</td><td>0.0000</td><td>-99.000</td><td>0.000</td><td>-99.000</td><td>0.000</td><td>-99.000</td><td>0.000</td><td>-99.000</td><td>0.000</td><td>0.0e+00</td><td>-9.00e+29</td><td>-900000000000000046043660025856.000</td><td>-9.00e+29</td><td>-9.00e+29</td><td>-9.00e+29</td><td>-9.00e+29</td><td>-9.00e+29</td><td>-9.00e+29</td><td>-9.00e+29</td><td>-9.00e+29</td><td>-9.00e+29</td><td>-9.00e+29</td><td>-9.00e+29</td><td>-900000000000000046043660025856.00</td><td>-900000000000000046043660025856.00</td><td>-900000000000000046043660025856.00</td><td>-9.00e+29 ..  -9.00e+29</td><td>-900000000000000046043660025856.000 .. -900000000000000046043660025856.000</td><td>-9.00e+29 ..  -9.00e+29</td><td>-9.00e+29 ..  -9.00e+29</td><td>-9.00e+29 ..  -9.00e+29</td><td>-9.00e+29 ..  -9.00e+29</td><td>-9.00e+29 ..  -9.00e+29</td><td>-9.00e+29 ..  -9.00e+29</td><td>-9.00e+29 ..  -9.00e+29</td><td>-9.00e+29 ..  -9.00e+29</td><td>-9.00e+29 ..  -9.00e+29</td><td>-9.00e+29 ..  -9.00e+29</td><td>-9.00e+29 ..  -9.00e+29</td><td>-900000000000000046043660025856.00 .. -900000000000000046043660025856.00</td><td>-9.00e+29 ..  -9.00e+29</td><td>-99.000</td><td>0.000</td><td>-99.000</td><td>0.000</td><td>-99.000</td><td>0.000</td><td>-99.000</td><td>0.000</td><td>-99.000</td><td>0.000</td><td>0.02426156584177849</td><td>1.3804176471542673e-05</td><td>0.0</td></tr>\n",
       "<tr><td>2</td><td>24.379928</td><td>-8.500794</td><td>-99.000</td><td>-99.000</td><td>-99.000</td><td>-99.000</td><td>-99.000</td><td>-99.000</td><td>-99.000</td><td>-99.000</td><td>-99.000</td><td>-99.000</td><td>-99.000</td><td>-99.000</td><td>-99.000</td><td>-99.000</td><td>-99.000</td><td>-99.000</td><td>-99.000</td><td>-99.000</td><td>-99.000</td><td>-99.000</td><td>-99.000</td><td>-99.000</td><td>-99.000</td><td>-99.000</td><td>-99.000</td><td>-99.000</td><td>-99.000</td><td>-99.000</td><td>-99.000</td><td>-99.000</td><td>-99.000</td><td>-99.000</td><td>-99.000</td><td>-99.000</td><td>-1.0</td><td>0</td><td>-1.0</td><td>-1.0</td><td>-1.0</td><td>43188281021088.9</td><td>0.0</td><td>-1.0</td><td>-1.0</td><td>-1.0</td><td>0.01</td><td>0.0</td><td>0.01</td><td>0.0000</td><td>0.0000</td><td>0.0000</td><td>0.0000</td><td>0.0000</td><td>0.0000</td><td>-99.000</td><td>0.000</td><td>-99.000</td><td>0.000</td><td>-99.000</td><td>0.000</td><td>-99.000</td><td>0.000</td><td>0.0e+00</td><td>-9.00e+29</td><td>-900000000000000046043660025856.000</td><td>-9.00e+29</td><td>-9.00e+29</td><td>-9.00e+29</td><td>-9.00e+29</td><td>-9.00e+29</td><td>-9.00e+29</td><td>-9.00e+29</td><td>-9.00e+29</td><td>-9.00e+29</td><td>-9.00e+29</td><td>-9.00e+29</td><td>-900000000000000046043660025856.00</td><td>-900000000000000046043660025856.00</td><td>-900000000000000046043660025856.00</td><td>-9.00e+29 ..  -9.00e+29</td><td>-900000000000000046043660025856.000 .. -900000000000000046043660025856.000</td><td>-9.00e+29 ..  -9.00e+29</td><td>-9.00e+29 ..  -9.00e+29</td><td>-9.00e+29 ..  -9.00e+29</td><td>-9.00e+29 ..  -9.00e+29</td><td>-9.00e+29 ..  -9.00e+29</td><td>-9.00e+29 ..  -9.00e+29</td><td>-9.00e+29 ..  -9.00e+29</td><td>-9.00e+29 ..  -9.00e+29</td><td>-9.00e+29 ..  -9.00e+29</td><td>-9.00e+29 ..  -9.00e+29</td><td>-9.00e+29 ..  -9.00e+29</td><td>-900000000000000046043660025856.00 .. -900000000000000046043660025856.00</td><td>-9.00e+29 ..  -9.00e+29</td><td>-99.000</td><td>0.000</td><td>-99.000</td><td>0.000</td><td>-99.000</td><td>0.000</td><td>-99.000</td><td>0.000</td><td>-99.000</td><td>0.000</td><td>0.0027147871291991455</td><td>2.9517131549171674e-05</td><td>0.0</td></tr>\n",
       "</table></div>"
      ],
      "text/plain": [
       "<Table length=2>\n",
       "  id      ra       dec    f090w_flux ...          flux                  peak          flux_radius\n",
       "                                     ...          uJy                   uJy                      \n",
       "int32  float64   float64   float32   ...        float64               float64           float64  \n",
       "----- --------- --------- ---------- ... --------------------- ---------------------- -----------\n",
       "    1 24.390374 -8.500793    -99.000 ...   0.02426156584177849 1.3804176471542673e-05         0.0\n",
       "    2 24.379928 -8.500794    -99.000 ... 0.0027147871291991455 2.9517131549171674e-05         0.0"
      ]
     },
     "execution_count": 17,
     "metadata": {},
     "output_type": "execute_result"
    }
   ],
   "source": [
    "catalog[:2]"
   ]
  },
  {
   "cell_type": "markdown",
   "id": "f78ed5f1",
   "metadata": {},
   "source": [
    "# Load color image and segmentation map"
   ]
  },
  {
   "cell_type": "code",
   "execution_count": 18,
   "id": "1542e258",
   "metadata": {},
   "outputs": [
    {
     "data": {
      "text/plain": [
       "'../color/whl0137_v4_bright.png'"
      ]
     },
     "execution_count": 18,
     "metadata": {},
     "output_type": "execute_result"
    }
   ],
   "source": [
    "# Color image\n",
    "field = 'whl0137'\n",
    "color_image_file = '../color/%s_v4_bright.png' % field\n",
    "im = Image.open(color_image_file)\n",
    "color_image = np.asarray(im)\n",
    "color_image = color_image[::-1]  # flip top-bottom\n",
    "color_image_file"
   ]
  },
  {
   "cell_type": "code",
   "execution_count": 19,
   "id": "e90a46d0",
   "metadata": {},
   "outputs": [
    {
     "data": {
      "text/plain": [
       "(24000, 17600, 3)"
      ]
     },
     "execution_count": 19,
     "metadata": {},
     "output_type": "execute_result"
    }
   ],
   "source": [
    "color_image.shape"
   ]
  },
  {
   "cell_type": "code",
   "execution_count": 21,
   "id": "d28735dd",
   "metadata": {},
   "outputs": [],
   "source": [
    "# Segmentation map\n",
    "#segm_file = os.path.join('../phot', field+'_total_detections_segm.fits.gz')\n",
    "#segm_file = os.path.join('../catalogs', 'sunrise-grizli-v2-ir_seg.fits')\n",
    "#segm_file = inroot + '-ir_seg.fits.gz'\n",
    "segm_file = 'sunrise-grizli-v4.0-ir_20mas_seg.fits.gz'\n",
    "segm_data = fits.open(segm_file)[0].data\n",
    "segm = photutils.segmentation.SegmentationImage(segm_data)"
   ]
  },
  {
   "cell_type": "code",
   "execution_count": 22,
   "id": "015d3609",
   "metadata": {},
   "outputs": [
    {
     "data": {
      "text/plain": [
       "(24000, 17600)"
      ]
     },
     "execution_count": 22,
     "metadata": {},
     "output_type": "execute_result"
    }
   ],
   "source": [
    "segm_data.shape"
   ]
  },
  {
   "cell_type": "code",
   "execution_count": 23,
   "id": "3b2ce40b",
   "metadata": {},
   "outputs": [],
   "source": [
    "#image_files = glob('../images/*.fits')\n",
    "#infile = image_files[0]\n",
    "hdu = fits.open(segm_file)\n",
    "idata = 0\n",
    "image_wcs = wcs.WCS(hdu[idata].header, hdu)\n",
    "#image_wcs"
   ]
  },
  {
   "cell_type": "code",
   "execution_count": 24,
   "id": "8d3b3a19",
   "metadata": {},
   "outputs": [],
   "source": [
    "# Calculate x,y -- to be used for image stamps\n",
    "#catalog_coordinates = SkyCoord(ra=eazy_results['ra']*u.deg, dec=eazy_results['dec']*u.deg)\n",
    "catalog_coordinates = SkyCoord(ra=eazy_results['ra'], dec=eazy_results['dec'])  # *u.deg\n",
    "eazy_results['x'], eazy_results['y'] = image_wcs.world_to_pixel(catalog_coordinates)\n",
    "eazy_run.cat['x'], eazy_run.cat['y'] = image_wcs.world_to_pixel(catalog_coordinates)"
   ]
  },
  {
   "cell_type": "code",
   "execution_count": 25,
   "id": "48410509",
   "metadata": {},
   "outputs": [
    {
     "data": {
      "text/html": [
       "<div><i>Table length=2</i>\n",
       "<table id=\"table6296977664\" class=\"table-striped table-bordered table-condensed\">\n",
       "<thead><tr><th>id</th><th>ra</th><th>dec</th><th>z_spec</th><th>nusefilt</th><th>z_ml</th><th>z_ml_chi2</th><th>z_ml_risk</th><th>lc_min</th><th>lc_max</th><th>z_phot</th><th>z_phot_chi2</th><th>z_phot_risk</th><th>z_min_risk</th><th>min_risk</th><th>z_raw_chi2</th><th>raw_chi2</th><th>z025</th><th>z160</th><th>z500</th><th>z840</th><th>z975</th><th>restU</th><th>restU_err</th><th>restB</th><th>restB_err</th><th>restV</th><th>restV_err</th><th>restJ</th><th>restJ_err</th><th>dL</th><th>mass</th><th>sfr</th><th>Lv</th><th>LIR</th><th>energy_abs</th><th>Lu</th><th>Lj</th><th>L1400</th><th>L2800</th><th>LHa</th><th>LOIII</th><th>LHb</th><th>LOII</th><th>MLv</th><th>Av</th><th>lwAgeV</th><th>mass_p</th><th>sfr_p</th><th>Lv_p</th><th>LIR_p</th><th>energy_abs_p</th><th>Lu_p</th><th>Lj_p</th><th>L1400_p</th><th>L2800_p</th><th>LHa_p</th><th>LOIII_p</th><th>LHb_p</th><th>LOII_p</th><th>Av_p</th><th>ssfr_p</th><th>rest120</th><th>rest120_err</th><th>rest121</th><th>rest121_err</th><th>rest414</th><th>rest414_err</th><th>rest415</th><th>rest415_err</th><th>rest416</th><th>rest416_err</th><th>x</th><th>y</th></tr></thead>\n",
       "<thead><tr><th></th><th>deg</th><th>deg</th><th></th><th></th><th></th><th></th><th></th><th></th><th></th><th></th><th></th><th></th><th></th><th></th><th></th><th></th><th></th><th></th><th></th><th></th><th></th><th></th><th></th><th></th><th></th><th></th><th></th><th></th><th></th><th>Mpc</th><th>solMass</th><th>solMass / yr</th><th>solLum</th><th>solLum</th><th>solLum</th><th>solLum</th><th>solLum</th><th>solLum</th><th>solLum</th><th>solLum</th><th>solLum</th><th>solLum</th><th>solLum</th><th>solMass / solLum</th><th></th><th>Gyr</th><th></th><th></th><th></th><th></th><th></th><th></th><th></th><th></th><th></th><th></th><th></th><th></th><th></th><th></th><th></th><th></th><th></th><th></th><th></th><th></th><th></th><th></th><th></th><th></th><th></th><th></th><th></th></tr></thead>\n",
       "<thead><tr><th>int32</th><th>float64</th><th>float64</th><th>float64</th><th>int64</th><th>float32</th><th>float32</th><th>float32</th><th>float64</th><th>float64</th><th>float32</th><th>float32</th><th>float32</th><th>float32</th><th>float32</th><th>float32</th><th>float32</th><th>float32</th><th>float32</th><th>float32</th><th>float32</th><th>float32</th><th>float32</th><th>float32</th><th>float32</th><th>float32</th><th>float32</th><th>float32</th><th>float32</th><th>float32</th><th>float64</th><th>float64</th><th>float64</th><th>float64</th><th>float64</th><th>float64</th><th>float64</th><th>float64</th><th>float64</th><th>float64</th><th>float64</th><th>float64</th><th>float64</th><th>float64</th><th>float64</th><th>float64</th><th>float64</th><th>float64[5]</th><th>float64[5]</th><th>float64[5]</th><th>float64[5]</th><th>float64[5]</th><th>float64[5]</th><th>float64[5]</th><th>float64[5]</th><th>float64[5]</th><th>float64[5]</th><th>float64[5]</th><th>float64[5]</th><th>float64[5]</th><th>float64[5]</th><th>float64[5]</th><th>float32</th><th>float32</th><th>float32</th><th>float32</th><th>float32</th><th>float32</th><th>float32</th><th>float32</th><th>float32</th><th>float32</th><th>float64</th><th>float64</th></tr></thead>\n",
       "<tr><td>1</td><td>24.390374009600837</td><td>-8.500792839432803</td><td>-1.0</td><td>0</td><td>-1.0</td><td>-1.0</td><td>-1.0</td><td>43188281021088.9</td><td>0.0</td><td>-1.0</td><td>-1.0</td><td>-1.0</td><td>0.01</td><td>0.0</td><td>0.01</td><td>0.0000</td><td>0.0000</td><td>0.0000</td><td>0.0000</td><td>0.0000</td><td>0.0000</td><td>-99.000</td><td>0.000</td><td>-99.000</td><td>0.000</td><td>-99.000</td><td>0.000</td><td>-99.000</td><td>0.000</td><td>0.0e+00</td><td>-9.00e+29</td><td>-900000000000000046043660025856.000</td><td>-9.00e+29</td><td>-9.00e+29</td><td>-9.00e+29</td><td>-9.00e+29</td><td>-9.00e+29</td><td>-9.00e+29</td><td>-9.00e+29</td><td>-9.00e+29</td><td>-9.00e+29</td><td>-9.00e+29</td><td>-9.00e+29</td><td>-900000000000000046043660025856.00</td><td>-900000000000000046043660025856.00</td><td>-900000000000000046043660025856.00</td><td>-9.00e+29 ..  -9.00e+29</td><td>-900000000000000046043660025856.000 .. -900000000000000046043660025856.000</td><td>-9.00e+29 ..  -9.00e+29</td><td>-9.00e+29 ..  -9.00e+29</td><td>-9.00e+29 ..  -9.00e+29</td><td>-9.00e+29 ..  -9.00e+29</td><td>-9.00e+29 ..  -9.00e+29</td><td>-9.00e+29 ..  -9.00e+29</td><td>-9.00e+29 ..  -9.00e+29</td><td>-9.00e+29 ..  -9.00e+29</td><td>-9.00e+29 ..  -9.00e+29</td><td>-9.00e+29 ..  -9.00e+29</td><td>-9.00e+29 ..  -9.00e+29</td><td>-900000000000000046043660025856.00 .. -900000000000000046043660025856.00</td><td>-9.00e+29 ..  -9.00e+29</td><td>-99.000</td><td>0.000</td><td>-99.000</td><td>0.000</td><td>-99.000</td><td>0.000</td><td>-99.000</td><td>0.000</td><td>-99.000</td><td>0.000</td><td>844.1282141475549</td><td>2.500002358947313</td></tr>\n",
       "<tr><td>2</td><td>24.3799276586953</td><td>-8.50079364079458</td><td>-1.0</td><td>0</td><td>-1.0</td><td>-1.0</td><td>-1.0</td><td>43188281021088.9</td><td>0.0</td><td>-1.0</td><td>-1.0</td><td>-1.0</td><td>0.01</td><td>0.0</td><td>0.01</td><td>0.0000</td><td>0.0000</td><td>0.0000</td><td>0.0000</td><td>0.0000</td><td>0.0000</td><td>-99.000</td><td>0.000</td><td>-99.000</td><td>0.000</td><td>-99.000</td><td>0.000</td><td>-99.000</td><td>0.000</td><td>0.0e+00</td><td>-9.00e+29</td><td>-900000000000000046043660025856.000</td><td>-9.00e+29</td><td>-9.00e+29</td><td>-9.00e+29</td><td>-9.00e+29</td><td>-9.00e+29</td><td>-9.00e+29</td><td>-9.00e+29</td><td>-9.00e+29</td><td>-9.00e+29</td><td>-9.00e+29</td><td>-9.00e+29</td><td>-900000000000000046043660025856.00</td><td>-900000000000000046043660025856.00</td><td>-900000000000000046043660025856.00</td><td>-9.00e+29 ..  -9.00e+29</td><td>-900000000000000046043660025856.000 .. -900000000000000046043660025856.000</td><td>-9.00e+29 ..  -9.00e+29</td><td>-9.00e+29 ..  -9.00e+29</td><td>-9.00e+29 ..  -9.00e+29</td><td>-9.00e+29 ..  -9.00e+29</td><td>-9.00e+29 ..  -9.00e+29</td><td>-9.00e+29 ..  -9.00e+29</td><td>-9.00e+29 ..  -9.00e+29</td><td>-9.00e+29 ..  -9.00e+29</td><td>-9.00e+29 ..  -9.00e+29</td><td>-9.00e+29 ..  -9.00e+29</td><td>-9.00e+29 ..  -9.00e+29</td><td>-900000000000000046043660025856.00 .. -900000000000000046043660025856.00</td><td>-9.00e+29 ..  -9.00e+29</td><td>-99.000</td><td>0.000</td><td>-99.000</td><td>0.000</td><td>-99.000</td><td>0.000</td><td>-99.000</td><td>0.000</td><td>-99.000</td><td>0.000</td><td>2703.814640419486</td><td>2.5004205938921586</td></tr>\n",
       "</table></div>"
      ],
      "text/plain": [
       "<Table length=2>\n",
       "  id          ra                dec          z_spec ... rest416_err          x                 y         \n",
       "             deg                deg                 ...                                                  \n",
       "int32      float64            float64       float64 ...   float32         float64           float64      \n",
       "----- ------------------ ------------------ ------- ... ------------ ----------------- ------------------\n",
       "    1 24.390374009600837 -8.500792839432803    -1.0 ...        0.000 844.1282141475549  2.500002358947313\n",
       "    2   24.3799276586953  -8.50079364079458    -1.0 ...        0.000 2703.814640419486 2.5004205938921586"
      ]
     },
     "execution_count": 25,
     "metadata": {},
     "output_type": "execute_result"
    }
   ],
   "source": [
    "eazy_results[:2]"
   ]
  },
  {
   "cell_type": "code",
   "execution_count": 26,
   "id": "8237d8fb",
   "metadata": {},
   "outputs": [],
   "source": [
    "coeSEDplot.eazy_results = eazy_results\n",
    "coeSEDplot.eazy_run = eazy_run\n",
    "coeSEDplot.segm = segm\n",
    "coeSEDplot.color_image = color_image"
   ]
  },
  {
   "cell_type": "markdown",
   "id": "c67ad4a7",
   "metadata": {},
   "source": [
    "# Look at a galaxy"
   ]
  },
  {
   "cell_type": "markdown",
   "id": "d4cd2a08",
   "metadata": {},
   "source": [
    "Say you're browsing the interactive image + catalog https://cosmic-spring-jwst.herokuapp.com  \n",
    "and find an interesting galaxy you want to look at. It will give you the ID number that you can use here.  \n",
    "Alternatively, you might have the RA, Dec coordinates, which you can use further below."
   ]
  },
  {
   "cell_type": "markdown",
   "id": "332dba8f",
   "metadata": {},
   "source": [
    "# Show galaxy"
   ]
  },
  {
   "cell_type": "code",
   "execution_count": 27,
   "id": "209727eb",
   "metadata": {},
   "outputs": [],
   "source": [
    "%matplotlib inline"
   ]
  },
  {
   "cell_type": "code",
   "execution_count": 28,
   "id": "3f7af20b",
   "metadata": {},
   "outputs": [
    {
     "data": {
      "text/plain": [
       "<module 'coeSEDplot' from '/Users/dcoe/RELICS/data/whl0137-08/JWST/eazy_v4/coeSEDplot.py'>"
      ]
     },
     "execution_count": 28,
     "metadata": {},
     "output_type": "execute_result"
    }
   ],
   "source": [
    "reload(coeSEDplot)"
   ]
  },
  {
   "cell_type": "code",
   "execution_count": 29,
   "id": "82429c2e",
   "metadata": {},
   "outputs": [
    {
     "data": {
      "text/html": [
       "<i>Row index=0</i>\n",
       "<table id=\"table6296077936\">\n",
       "<thead><tr><th>id</th><th>ra</th><th>dec</th><th>z_spec</th><th>nusefilt</th><th>z_ml</th><th>z_ml_chi2</th><th>z_ml_risk</th><th>lc_min</th><th>lc_max</th><th>z_phot</th><th>z_phot_chi2</th><th>z_phot_risk</th><th>z_min_risk</th><th>min_risk</th><th>z_raw_chi2</th><th>raw_chi2</th><th>z025</th><th>z160</th><th>z500</th><th>z840</th><th>z975</th><th>restU</th><th>restU_err</th><th>restB</th><th>restB_err</th><th>restV</th><th>restV_err</th><th>restJ</th><th>restJ_err</th><th>dL</th><th>mass</th><th>sfr</th><th>Lv</th><th>LIR</th><th>energy_abs</th><th>Lu</th><th>Lj</th><th>L1400</th><th>L2800</th><th>LHa</th><th>LOIII</th><th>LHb</th><th>LOII</th><th>MLv</th><th>Av</th><th>lwAgeV</th><th>mass_p</th><th>sfr_p</th><th>Lv_p</th><th>LIR_p</th><th>energy_abs_p</th><th>Lu_p</th><th>Lj_p</th><th>L1400_p</th><th>L2800_p</th><th>LHa_p</th><th>LOIII_p</th><th>LHb_p</th><th>LOII_p</th><th>Av_p</th><th>ssfr_p</th><th>rest120</th><th>rest120_err</th><th>rest121</th><th>rest121_err</th><th>rest414</th><th>rest414_err</th><th>rest415</th><th>rest415_err</th><th>rest416</th><th>rest416_err</th><th>x</th><th>y</th></tr></thead>\n",
       "<thead><tr><th></th><th>deg</th><th>deg</th><th></th><th></th><th></th><th></th><th></th><th></th><th></th><th></th><th></th><th></th><th></th><th></th><th></th><th></th><th></th><th></th><th></th><th></th><th></th><th></th><th></th><th></th><th></th><th></th><th></th><th></th><th></th><th>Mpc</th><th>solMass</th><th>solMass / yr</th><th>solLum</th><th>solLum</th><th>solLum</th><th>solLum</th><th>solLum</th><th>solLum</th><th>solLum</th><th>solLum</th><th>solLum</th><th>solLum</th><th>solLum</th><th>solMass / solLum</th><th></th><th>Gyr</th><th></th><th></th><th></th><th></th><th></th><th></th><th></th><th></th><th></th><th></th><th></th><th></th><th></th><th></th><th></th><th></th><th></th><th></th><th></th><th></th><th></th><th></th><th></th><th></th><th></th><th></th><th></th></tr></thead>\n",
       "<thead><tr><th>int32</th><th>float64</th><th>float64</th><th>float64</th><th>int64</th><th>float32</th><th>float32</th><th>float32</th><th>float64</th><th>float64</th><th>float32</th><th>float32</th><th>float32</th><th>float32</th><th>float32</th><th>float32</th><th>float32</th><th>float32</th><th>float32</th><th>float32</th><th>float32</th><th>float32</th><th>float32</th><th>float32</th><th>float32</th><th>float32</th><th>float32</th><th>float32</th><th>float32</th><th>float32</th><th>float64</th><th>float64</th><th>float64</th><th>float64</th><th>float64</th><th>float64</th><th>float64</th><th>float64</th><th>float64</th><th>float64</th><th>float64</th><th>float64</th><th>float64</th><th>float64</th><th>float64</th><th>float64</th><th>float64</th><th>float64[5]</th><th>float64[5]</th><th>float64[5]</th><th>float64[5]</th><th>float64[5]</th><th>float64[5]</th><th>float64[5]</th><th>float64[5]</th><th>float64[5]</th><th>float64[5]</th><th>float64[5]</th><th>float64[5]</th><th>float64[5]</th><th>float64[5]</th><th>float64[5]</th><th>float32</th><th>float32</th><th>float32</th><th>float32</th><th>float32</th><th>float32</th><th>float32</th><th>float32</th><th>float32</th><th>float32</th><th>float64</th><th>float64</th></tr></thead>\n",
       "<tr><td>1686</td><td>24.343259161884824</td><td>-8.452282840050918</td><td>-1.0</td><td>17</td><td>3.4813101</td><td>34.826153</td><td>0.28374597</td><td>4318.8</td><td>44036.7</td><td>3.4813101</td><td>34.826153</td><td>0.28374597</td><td>3.3927274</td><td>0.27620834</td><td>3.4814665</td><td>34.8211</td><td>2.0882</td><td>2.5307</td><td>3.4627</td><td>3.5932</td><td>5.5641</td><td>0.340</td><td>0.020</td><td>0.625</td><td>0.028</td><td>1.178</td><td>0.045</td><td>10.839</td><td>0.643</td><td>3.0e+04</td><td>3.34e+11</td><td>70.763</td><td>4.14e+10</td><td>2.04e+12</td><td>2.04e+12</td><td>1.75e+10</td><td>1.57e+11</td><td>4.43e+09</td><td>1.01e+10</td><td>1.73e+09</td><td>1.64e+09</td><td>3.24e+08</td><td>3.39e+08</td><td>8.06</td><td>3.39</td><td>0.23</td><td>2.88e+11 ..   3.77e+11</td><td>50.009 ..       90.906</td><td>3.86e+10 ..   4.41e+10</td><td>1.87e+12 ..   2.20e+12</td><td>1.87e+12 ..   2.20e+12</td><td>1.58e+10 ..   1.93e+10</td><td>1.42e+11 ..   1.70e+11</td><td>2.19e+09 ..   6.14e+09</td><td>8.75e+09 ..   1.13e+10</td><td>1.37e+09 ..   2.09e+09</td><td>1.36e+09 ..   1.89e+09</td><td>2.71e+08 ..   3.71e+08</td><td>2.98e+08 ..   3.77e+08</td><td>3.26 ..        3.53</td><td>1.33e-10 ..   3.08e-10</td><td>0.028</td><td>0.006</td><td>0.085</td><td>0.006</td><td>0.170</td><td>0.010</td><td>0.592</td><td>0.025</td><td>2.834</td><td>0.102</td><td>9231.896987715169</td><td>8734.557311622473</td></tr>\n",
       "</table>"
      ],
      "text/plain": [
       "<Row index=0>\n",
       "  id          ra                dec          z_spec nusefilt    z_ml   z_ml_chi2 z_ml_risk    lc_min     lc_max     z_phot  z_phot_chi2 z_phot_risk z_min_risk  min_risk  z_raw_chi2 raw_chi2   z025     z160     z500     z840     z975      restU      restU_err      restB      restB_err      restV      restV_err      restJ      restJ_err       dL       mass        sfr          Lv        LIR     energy_abs     Lu         Lj       L1400      L2800       LHa       LOIII       LHb        LOII          MLv             Av        lwAgeV            mass_p                     sfr_p                       Lv_p                    LIR_p                 energy_abs_p                 Lu_p                     Lj_p                   L1400_p                  L2800_p                   LHa_p                   LOIII_p                   LHb_p                    LOII_p                     Av_p                     ssfr_p            rest120    rest120_err    rest121    rest121_err    rest414    rest414_err    rest415    rest415_err    rest416    rest416_err          x                 y        \n",
       "             deg                deg                                                                                                                                                                                                                                                                                                                   Mpc     solMass   solMass / yr   solLum     solLum     solLum     solLum     solLum     solLum     solLum     solLum     solLum     solLum     solLum   solMass / solLum                 Gyr                                                                                                                                                                                                                                                                                                                                                                                                                                                                                                                                                                       \n",
       "int32      float64            float64       float64  int64    float32   float32   float32    float64    float64    float32    float32     float32    float32    float32    float32   float32  float32  float32  float32  float32  float32    float32      float32      float32      float32      float32      float32      float32      float32     float64   float64     float64     float64    float64    float64    float64    float64    float64    float64    float64    float64    float64    float64       float64        float64     float64          float64[5]                 float64[5]                 float64[5]               float64[5]               float64[5]               float64[5]               float64[5]               float64[5]               float64[5]               float64[5]               float64[5]               float64[5]               float64[5]                float64[5]                float64[5]          float32      float32      float32      float32      float32      float32      float32      float32      float32      float32         float64           float64     \n",
       "----- ------------------ ------------------ ------- -------- --------- --------- ---------- ---------- ---------- --------- ----------- ----------- ---------- ---------- ---------- -------- -------- -------- -------- -------- -------- ------------ ------------ ------------ ------------ ------------ ------------ ------------ ------------ --------- ---------- ------------ ---------- ---------- ---------- ---------- ---------- ---------- ---------- ---------- ---------- ---------- ---------- ---------------- ----------- ----------- ------------------------ ---------------------------- ------------------------ ------------------------ ------------------------ ------------------------ ------------------------ ------------------------ ------------------------ ------------------------ ------------------------ ------------------------ ------------------------ -------------------------- ------------------------ ------------ ------------ ------------ ------------ ------------ ------------ ------------ ------------ ------------ ------------ ----------------- -----------------\n",
       " 1686 24.343259161884824 -8.452282840050918    -1.0       17 3.4813101 34.826153 0.28374597     4318.8    44036.7 3.4813101   34.826153  0.28374597  3.3927274 0.27620834  3.4814665  34.8211   2.0882   2.5307   3.4627   3.5932   5.5641        0.340        0.020        0.625        0.028        1.178        0.045       10.839        0.643   3.0e+04   3.34e+11       70.763   4.14e+10   2.04e+12   2.04e+12   1.75e+10   1.57e+11   4.43e+09   1.01e+10   1.73e+09   1.64e+09   3.24e+08   3.39e+08             8.06        3.39        0.23   2.88e+11 ..   3.77e+11       50.009 ..       90.906   3.86e+10 ..   4.41e+10   1.87e+12 ..   2.20e+12   1.87e+12 ..   2.20e+12   1.58e+10 ..   1.93e+10   1.42e+11 ..   1.70e+11   2.19e+09 ..   6.14e+09   8.75e+09 ..   1.13e+10   1.37e+09 ..   2.09e+09   1.36e+09 ..   1.89e+09   2.71e+08 ..   3.71e+08   2.98e+08 ..   3.77e+08        3.26 ..        3.53   1.33e-10 ..   3.08e-10        0.028        0.006        0.085        0.006        0.170        0.010        0.592        0.025        2.834        0.102 9231.896987715169 8734.557311622473"
      ]
     },
     "execution_count": 29,
     "metadata": {},
     "output_type": "execute_result"
    }
   ],
   "source": [
    "id = 1686  # HST-dark galaxy\n",
    "obj = extract_id(eazy_results, id)\n",
    "# z_phot -1 is junk\n",
    "obj"
   ]
  },
  {
   "cell_type": "code",
   "execution_count": 30,
   "id": "3b229904",
   "metadata": {},
   "outputs": [
    {
     "data": {
      "text/plain": [
       "array([1.32684124e-10, 1.68234666e-10, 2.06842879e-10, 2.57748544e-10,\n",
       "       3.08352813e-10])"
      ]
     },
     "execution_count": 30,
     "metadata": {},
     "output_type": "execute_result"
    }
   ],
   "source": [
    "obj['ssfr_p']"
   ]
  },
  {
   "cell_type": "code",
   "execution_count": 31,
   "id": "41355914",
   "metadata": {},
   "outputs": [
    {
     "name": "stderr",
     "output_type": "stream",
     "text": [
      "/Users/dcoe/miniconda3/envs/erophot/lib/python3.10/site-packages/IPython/core/pylabtools.py:151: UserWarning: This figure includes Axes that are not compatible with tight_layout, so results might be incorrect.\n",
      "  fig.canvas.print_figure(bytes_io, **kw)\n"
     ]
    },
    {
     "data": {
      "image/png": "[encoded data removed]",
      "text/plain": [
       "<Figure size 864x432 with 7 Axes>"
      ]
     },
     "metadata": {
      "needs_background": "light"
     },
     "output_type": "display_data"
    }
   ],
   "source": [
    "fig = coeSEDplot.show_galaxy_properties(id, figsize=(12, 6), lam_min=0.4, lam_max=5); #, save=True);\n",
    "#plt.close(fig)"
   ]
  },
  {
   "cell_type": "markdown",
   "id": "31d1d605",
   "metadata": {},
   "source": [
    "# Plot and save all SED fits"
   ]
  },
  {
   "cell_type": "raw",
   "id": "1bed559a",
   "metadata": {},
   "source": [
    "Generating plots for many objects will be much more efficient outside of a notebook running a Python .py script.\n",
    "\n",
    "You might generate these for 10-20 objects in a notebook.\n",
    "It can take a while (~15 seconds per object) and might bog down your computer.\n",
    "You might want to pause it when working on other things.\n",
    "Monitor the process on a Mac by running \"top\" in a terminal and finding the Python PID running >90% CPU. \n",
    "For example:\n",
    "\n",
    "> top\n",
    "\n",
    "PID    COMMAND      %CPU  ...\n",
    "4671   python3.10   99.7  ...\n",
    "\n",
    "Then to pause that process:\n",
    "\n",
    "> kill -STOP 4671\n",
    "\n",
    "and resume:\n",
    "\n",
    "> kill -CONT 4671\n",
    "\n",
    "or stop it and the notebook for good:\n",
    "\n",
    "> kill 4671"
   ]
  },
  {
   "cell_type": "code",
   "execution_count": null,
   "id": "c757e9ce",
   "metadata": {
    "scrolled": false
   },
   "outputs": [],
   "source": [
    "#for id in catalog['id']:\n",
    "for id in [] # 849, 850, 851, 785, 784, 783, 783, 678, 677, 679:\n",
    "    #plt.close()\n",
    "    #plt.close('all')\n",
    "    obj = extract_id(eazy_results, id)\n",
    "    if obj['z_phot'] < 0:\n",
    "        print('Object #%d seems like junk (z_phot < 0)' % id)\n",
    "    else:\n",
    "        outfile = 'plots/eazy_%d.png' % id\n",
    "        if os.path.exists(outfile):\n",
    "            print(outfile, 'EXISTS')\n",
    "        else:\n",
    "            print('Object #%d plotting now...' % id)\n",
    "            fig = coeSEDplot.show_galaxy_properties(id, figsize=(12, 6), lam_min=0.4, lam_max=5, save=True);\n",
    "            plt.close(fig)\n",
    "            #, alt_id='1.31');"
   ]
  }
 ],
 "metadata": {
  "kernelspec": {
   "display_name": "Python 3",
   "language": "python",
   "name": "python3"
  },
  "language_info": {
   "codemirror_mode": {
    "name": "ipython",
    "version": 3
   },
   "file_extension": ".py",
   "mimetype": "text/x-python",
   "name": "python",
   "nbconvert_exporter": "python",
   "pygments_lexer": "ipython3",
   "version": "3.10.4"
  }
 },
 "nbformat": 4,
 "nbformat_minor": 5
}
